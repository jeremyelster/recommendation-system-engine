{
 "cells": [
  {
   "cell_type": "markdown",
   "metadata": {},
   "source": [
    "# Recommendation System Notebook Sample"
   ]
  },
  {
   "cell_type": "markdown",
   "metadata": {},
   "source": [
    "0. [Params](#Params)\n",
    "1. [Acquisitor and Cleaner](#Acquisitor-and-Cleaner)\n",
    "2. [Training Preparator](#Training-Preparator)\n",
    "3. [Trainer](#Trainer)\n",
    "4. [Metrics Evaluator](#Metrics-Evaluator)\n",
    "5. [Prediction Preparator](#Prediction-Preparator)\n",
    "6. [Predictor](#Predictor)\n",
    "7. [Feedback](#Feedback)\n",
    "8. [Sample Application](#Sample-Application)"
   ]
  },
  {
   "cell_type": "markdown",
   "metadata": {},
   "source": [
    "# Recommendation System"
   ]
  },
  {
   "cell_type": "code",
   "execution_count": 21,
   "metadata": {},
   "outputs": [],
   "source": [
    "import marvin_recommendation_system_engine"
   ]
  },
  {
   "cell_type": "markdown",
   "metadata": {},
   "source": [
    "# Params"
   ]
  },
  {
   "cell_type": "code",
   "execution_count": 22,
   "metadata": {},
   "outputs": [],
   "source": [
    "params = {\n",
    "    \"algo\": [\n",
    "        {\n",
    "            \"name\": \"SVD\",\n",
    "            \"param_grid\": {\n",
    "                \"n_epochs\": [10], \n",
    "                \"lr_all\": [0.005],\n",
    "                \"reg_all\": [0.6]   \n",
    "            }\n",
    "        },\n",
    "        {\n",
    "            \"name\": \"BaselineOnly\",\n",
    "            \"param_grid\": {\n",
    "                \"bsl_options\": {\n",
    "                    \"method\": [\"als\"],\n",
    "                    \"n_epochs\": [5],\n",
    "                    \"reg_u\": [12],\n",
    "                    \"reg_i\": [5]\n",
    "               }\n",
    "\n",
    "            },\n",
    "            \"full_name\": \"BaselineOnlyALS\"\n",
    "        },\n",
    "        {\n",
    "            \"name\": \"BaselineOnly\",\n",
    "            \"param_grid\": {\n",
    "                \"bsl_options\": {\n",
    "                    \"method\": [\"sgd\"],\n",
    "                    \"learning_rate\": [.00005]\n",
    "               }\n",
    "\n",
    "            },\n",
    "            \"full_name\": \"BaselineOnlySGD\"\n",
    "\n",
    "        },\n",
    "        {\n",
    "            \"name\": \"KNNBasic\",\n",
    "            \"param_grid\": {\n",
    "                \"k\": [20],\n",
    "                \"sim_options\": {\n",
    "                    \"name\": [\"msd\", \"cosine\", \"pearson_baseline\"],\n",
    "                    \"min_support\": [5],\n",
    "                    \"user_based\": [\"False\"]\n",
    "                }\n",
    "            },\n",
    "            \"full_name\": \"KNNBasicItem\"\n",
    "        },\n",
    "        {\n",
    "            \"name\": \"KNNBasic\",\n",
    "            \"param_grid\": {\n",
    "                \"k\": [20],\n",
    "                \"sim_options\": {\n",
    "                    \"name\": [\"msd\", \"cosine\", \"pearson_baseline\"],\n",
    "                    \"min_support\": [5],\n",
    "                    \"user_based\": [\"True\"]\n",
    "                }\n",
    "            },\n",
    "            \"full_name\": \"KNNBasicUser\"\n",
    "        },\n",
    "        {\n",
    "            \"name\": \"KNNWithMeans\",\n",
    "            \"param_grid\": {\n",
    "                \"k\": [20],\n",
    "                \"sim_options\": {\n",
    "                    \"name\": [\"msd\", \"cosine\", \"pearson_baseline\"],\n",
    "                    \"min_support\": [5],\n",
    "                    \"user_based\": [\"False\"]\n",
    "                }\n",
    "            }\n",
    "        }\n",
    "            \n",
    "            \n",
    "    ],\n",
    "    \"measures\": [\"rmse\", \"mae\"],\n",
    "    \"n_cv\": 3,\n",
    "    \n",
    "    \"prediction\": {\n",
    "        \"pred_type\": \"all\",\n",
    "        \"n_pred\": 10\n",
    "    }\n",
    "}"
   ]
  },
  {
   "cell_type": "markdown",
   "metadata": {},
   "source": [
    "# Aquisitor and Cleaner"
   ]
  },
  {
   "cell_type": "code",
   "execution_count": 23,
   "metadata": {},
   "outputs": [],
   "source": [
    "from surprise import Dataset"
   ]
  },
  {
   "cell_type": "code",
   "execution_count": 24,
   "metadata": {
    "marvin_cell": "acquisitor"
   },
   "outputs": [],
   "source": [
    "# Load the movielens-100k dataset (download it if needed),\n",
    "data = Dataset.load_builtin('ml-100k')\n",
    "\n",
    "marvin_initial_dataset = {\n",
    "    \"data\": data\n",
    "}"
   ]
  },
  {
   "cell_type": "markdown",
   "metadata": {},
   "source": [
    "# Training Preparator"
   ]
  },
  {
   "cell_type": "code",
   "execution_count": 25,
   "metadata": {
    "marvin_cell": "tpreparator"
   },
   "outputs": [
    {
     "name": "stdout",
     "output_type": "stream",
     "text": [
      "3.52986\n",
      "(u'196', u'302', 3.5298600000000002)\n"
     ]
    }
   ],
   "source": [
    "trainset = marvin_initial_dataset[\"data\"].build_full_trainset()\n",
    "print(trainset.global_mean)\n",
    "testset = trainset.build_anti_testset()\n",
    "print(testset[0])\n",
    "marvin_dataset = {\n",
    "    \"data\": marvin_initial_dataset[\"data\"],\n",
    "    \"trainset\": trainset,\n",
    "    \"testset\": testset\n",
    "}"
   ]
  },
  {
   "cell_type": "markdown",
   "metadata": {},
   "source": [
    "# Trainer"
   ]
  },
  {
   "cell_type": "code",
   "execution_count": 26,
   "metadata": {},
   "outputs": [],
   "source": [
    "from surprise.model_selection import GridSearchCV\n",
    "from surprise import SVD\n",
    "from surprise import KNNBaseline\n",
    "from surprise import KNNBasic\n",
    "from surprise import BaselineOnly\n",
    "from surprise import KNNWithMeans"
   ]
  },
  {
   "cell_type": "code",
   "execution_count": null,
   "metadata": {
    "marvin_cell": "trainer"
   },
   "outputs": [
    {
     "name": "stdout",
     "output_type": "stream",
     "text": [
      "{'param_grid': {'lr_all': [0.005], 'reg_all': [0.6], 'n_epochs': [10]}, 'name': 'SVD'}\n"
     ]
    }
   ],
   "source": [
    "algo_dict = {\"SVD\": SVD, \"KNNBaseline\": KNNBaseline, \"KNNBasic\": KNNBasic, \"BaselineOnly\": BaselineOnly, \"KNNWithMeans\": KNNWithMeans}\n",
    "\n",
    "model_dict = {}\n",
    "\n",
    "for algo in params[\"algo\"]:\n",
    "    \n",
    "    print(algo)\n",
    "    \n",
    "    # Get Name and Initiate Algorithm\n",
    "    algo_name = algo[\"name\"]\n",
    "\n",
    "    if algo.get(\"full_name\", False):\n",
    "        full_name = algo[\"full_name\"]\n",
    "    else:\n",
    "        full_name = algo_name\n",
    "    \n",
    "    model_dict[full_name] = {}\n",
    "        \n",
    "    # Initialize Gridsearch\n",
    "    gs = GridSearchCV(\n",
    "        algo_dict[algo_name],\n",
    "        algo[\"param_grid\"],\n",
    "        measures=params[\"measures\"],\n",
    "        cv=params[\"n_cv\"])\n",
    "    \n",
    "    gs.fit(marvin_dataset[\"data\"])\n",
    "    \n",
    "    # We can now use the algorithm that yields the best rmse:\n",
    "    best_algo = gs.best_estimator['rmse']\n",
    "    best_algo.fit(marvin_dataset[\"trainset\"])\n",
    "\n",
    "    # Get the predictions for null values in the set\n",
    "    model_dict[full_name][\"grid_search\"] = gs\n",
    "    model_dict[full_name][\"model\"] = best_algo\n",
    "    \n",
    "marvin_model = model_dict"
   ]
  },
  {
   "cell_type": "markdown",
   "metadata": {},
   "source": [
    "# Metrics Evaluator"
   ]
  },
  {
   "cell_type": "code",
   "execution_count": null,
   "metadata": {},
   "outputs": [],
   "source": [
    "import pandas as pd\n",
    "from surprise import accuracy"
   ]
  },
  {
   "cell_type": "code",
   "execution_count": 26,
   "metadata": {
    "marvin_cell": "evaluator"
   },
   "outputs": [
    {
     "name": "stdout",
     "output_type": "stream",
     "text": [
      "SVD\n",
      "BaselineOnlyALS\n",
      "BaselineOnlySGD\n",
      "KNNBasicItem\n",
      "KNNBasicUser\n",
      "KNNWithMeans\n"
     ]
    }
   ],
   "source": [
    "metrics_dict = {}\n",
    "\n",
    "for algo in params[\"algo\"]:\n",
    "    \n",
    "    algo_name = algo[\"name\"]\n",
    "\n",
    "    if algo.get(\"full_name\", False):\n",
    "        full_name = algo[\"full_name\"]\n",
    "    else:\n",
    "        full_name = algo_name\n",
    "    print(full_name)\n",
    "    \n",
    "    metrics_dict[full_name] = {}\n",
    "    \n",
    "    # combination of parameters that gave the best RMSE score\n",
    "    best_model = [key + \": \" + str(value) for (key,value) in marvin_model[full_name][\"grid_search\"].best_params['rmse'].items()]\n",
    "    #print(\"Best Model: {}\".format(best_model))\n",
    "\n",
    "    # best RMSE score\n",
    "    train_rmse = marvin_model[full_name][\"grid_search\"].best_score['rmse']\n",
    "    #print(\"Train RMSE: {}\".format(train_rmse))\n",
    "    \n",
    "    # Prediction Score\n",
    "    # Train the algorithm on the trainset, and predict ratings for the testset\n",
    "    predictions = marvin_model[full_name][\"model\"].test(marvin_dataset[\"testset\"])\n",
    "    #print(len(predictions))\n",
    "    # Then compute RMSE\n",
    "    test_rmse = accuracy.rmse(predictions, verbose=False)\n",
    "    #print(\"Test Set Score: {}\".format(test_rmse))\n",
    "    \n",
    "    metrics_dict[full_name][\"best_model\"] = best_model\n",
    "    metrics_dict[full_name][\"train_rmse\"] = train_rmse\n",
    "    #metrics_dict[full_name][\"predictions\"] = predictions\n",
    "    metrics_dict[full_name][\"test_rmse\"] = test_rmse\n",
    "\n",
    "\n",
    "marvin_metrics = metrics_dict"
   ]
  },
  {
   "cell_type": "code",
   "execution_count": 30,
   "metadata": {},
   "outputs": [
    {
     "data": {
      "text/html": [
       "<div>\n",
       "<style>\n",
       "    .dataframe thead tr:only-child th {\n",
       "        text-align: right;\n",
       "    }\n",
       "\n",
       "    .dataframe thead th {\n",
       "        text-align: left;\n",
       "    }\n",
       "\n",
       "    .dataframe tbody tr th {\n",
       "        vertical-align: top;\n",
       "    }\n",
       "</style>\n",
       "<table border=\"1\" class=\"dataframe\">\n",
       "  <thead>\n",
       "    <tr style=\"text-align: right;\">\n",
       "      <th></th>\n",
       "      <th>best_model</th>\n",
       "      <th>test_rmse</th>\n",
       "      <th>train_rmse</th>\n",
       "    </tr>\n",
       "  </thead>\n",
       "  <tbody>\n",
       "    <tr>\n",
       "      <th>BaselineOnlySGD</th>\n",
       "      <td>[bsl_options: {'learning_rate': 5e-05, 'method...</td>\n",
       "      <td>0.0657408</td>\n",
       "      <td>1.08465</td>\n",
       "    </tr>\n",
       "    <tr>\n",
       "      <th>SVD</th>\n",
       "      <td>[lr_all: 0.005, reg_all: 0.6, n_epochs: 10]</td>\n",
       "      <td>0.364537</td>\n",
       "      <td>0.974032</td>\n",
       "    </tr>\n",
       "    <tr>\n",
       "      <th>BaselineOnlyALS</th>\n",
       "      <td>[bsl_options: {'n_epochs': 5, 'reg_i': 5, 'met...</td>\n",
       "      <td>0.578061</td>\n",
       "      <td>0.943989</td>\n",
       "    </tr>\n",
       "    <tr>\n",
       "      <th>KNNWithMeans</th>\n",
       "      <td>[sim_options: {'min_support': 5, 'name': 'pear...</td>\n",
       "      <td>0.822605</td>\n",
       "      <td>0.952561</td>\n",
       "    </tr>\n",
       "    <tr>\n",
       "      <th>KNNBasicItem</th>\n",
       "      <td>[sim_options: {'min_support': 5, 'name': 'msd'...</td>\n",
       "      <td>0.925392</td>\n",
       "      <td>0.982872</td>\n",
       "    </tr>\n",
       "    <tr>\n",
       "      <th>KNNBasicUser</th>\n",
       "      <td>[sim_options: {'min_support': 5, 'name': 'msd'...</td>\n",
       "      <td>0.925392</td>\n",
       "      <td>0.984469</td>\n",
       "    </tr>\n",
       "  </tbody>\n",
       "</table>\n",
       "</div>"
      ],
      "text/plain": [
       "                                                        best_model  test_rmse  \\\n",
       "BaselineOnlySGD  [bsl_options: {'learning_rate': 5e-05, 'method...  0.0657408   \n",
       "SVD                    [lr_all: 0.005, reg_all: 0.6, n_epochs: 10]   0.364537   \n",
       "BaselineOnlyALS  [bsl_options: {'n_epochs': 5, 'reg_i': 5, 'met...   0.578061   \n",
       "KNNWithMeans     [sim_options: {'min_support': 5, 'name': 'pear...   0.822605   \n",
       "KNNBasicItem     [sim_options: {'min_support': 5, 'name': 'msd'...   0.925392   \n",
       "KNNBasicUser     [sim_options: {'min_support': 5, 'name': 'msd'...   0.925392   \n",
       "\n",
       "                train_rmse  \n",
       "BaselineOnlySGD    1.08465  \n",
       "SVD               0.974032  \n",
       "BaselineOnlyALS   0.943989  \n",
       "KNNWithMeans      0.952561  \n",
       "KNNBasicItem      0.982872  \n",
       "KNNBasicUser      0.984469  "
      ]
     },
     "execution_count": 30,
     "metadata": {},
     "output_type": "execute_result"
    }
   ],
   "source": [
    "pd.DataFrame(marvin_metrics).T.sort_values('test_rmse')"
   ]
  },
  {
   "cell_type": "code",
   "execution_count": 31,
   "metadata": {},
   "outputs": [],
   "source": [
    "from collections import defaultdict\n",
    "def precision_recall_at_k(predictions, k=10, threshold=3.5):\n",
    "    '''Return precision and recall at k metrics for each user.'''\n",
    "\n",
    "    # First map the predictions to each user.\n",
    "    user_est_true = defaultdict(list)\n",
    "    for uid, _, true_r, est, _ in predictions:\n",
    "        user_est_true[uid].append((est, true_r))\n",
    "\n",
    "    precisions = dict()\n",
    "    recalls = dict()\n",
    "    for uid, user_ratings in user_est_true.items():\n",
    "\n",
    "        # Sort user ratings by estimated value\n",
    "        user_ratings.sort(key=lambda x: x[0], reverse=True)\n",
    "\n",
    "        # Number of relevant items\n",
    "        n_rel = sum((true_r >= threshold) for (_, true_r) in user_ratings)\n",
    "\n",
    "        # Number of recommended items in top k\n",
    "        n_rec_k = sum((est >= threshold) for (est, _) in user_ratings[:k])\n",
    "\n",
    "        # Number of relevant and recommended items in top k\n",
    "        n_rel_and_rec_k = sum(((true_r >= threshold) and (est >= threshold))\n",
    "                              for (est, true_r) in user_ratings[:k])\n",
    "\n",
    "        # Precision@K: Proportion of recommended items that are relevant\n",
    "        precisions[uid] = n_rel_and_rec_k / n_rec_k if n_rec_k != 0 else 1\n",
    "\n",
    "        # Recall@K: Proportion of relevant items that are recommended\n",
    "        recalls[uid] = n_rel_and_rec_k / n_rel if n_rel != 0 else 1\n",
    "\n",
    "    return precisions, recalls\n",
    "\n",
    "#predictions = marvin_model[\"model\"].test(marvin_dataset[\"testset\"])\n",
    "#precisions, recalls = precision_recall_at_k(predictions, k=5, threshold=4)\n",
    "\n",
    "# Precision and recall can then be averaged over all users\n",
    "#print(sum(prec for prec in precisions.values()) / float(len(precisions)))\n",
    "#print(sum(rec for rec in recalls.values()) / float(len(recalls)))"
   ]
  },
  {
   "cell_type": "markdown",
   "metadata": {},
   "source": [
    "# Prediction Preparator"
   ]
  },
  {
   "cell_type": "code",
   "execution_count": 14,
   "metadata": {},
   "outputs": [],
   "source": [
    "input_message = {\n",
    "    \"User_id\": 196,\n",
    "    \"Item_id\": 302\n",
    "}"
   ]
  },
  {
   "cell_type": "code",
   "execution_count": 15,
   "metadata": {
    "marvin_cell": "predictor"
   },
   "outputs": [],
   "source": [
    "# get a prediction for specific users and items.\n",
    "pred_dict = {}\n",
    "\n",
    "for algo in params[\"algo\"]:\n",
    "    \n",
    "    # Get Name and Initiate Algorithm\n",
    "    algo_name = algo[\"name\"]\n",
    "\n",
    "    if algo.get(\"full_name\", False):\n",
    "        full_name = algo[\"full_name\"]\n",
    "    else:\n",
    "        full_name = algo_name\n",
    "    \n",
    "    pred_dict[full_name] = marvin_model[full_name][\"model\"].predict(\n",
    "        str(input_message[\"User_id\"]), str(input_message[\"Item_id\"]), r_ui=4, verbose=False)[3]\n",
    "                                           \n",
    "\n",
    "final_prediction = pred_dict"
   ]
  },
  {
   "cell_type": "code",
   "execution_count": 16,
   "metadata": {},
   "outputs": [
    {
     "data": {
      "text/plain": [
       "{'BaselineOnlyALS': 4.1972649922983392,\n",
       " 'BaselineOnlySGD': 3.6962422165779385,\n",
       " 'KNNBasicItem': 4.0148182865364941,\n",
       " 'KNNBasicUser': 4.0148182865364941,\n",
       " 'KNNWithMeans': 4.2384236870323271,\n",
       " 'SVD': 3.9518854712543905}"
      ]
     },
     "execution_count": 16,
     "metadata": {},
     "output_type": "execute_result"
    }
   ],
   "source": [
    "final_prediction"
   ]
  },
  {
   "cell_type": "code",
   "execution_count": null,
   "metadata": {},
   "outputs": [],
   "source": []
  },
  {
   "cell_type": "markdown",
   "metadata": {},
   "source": [
    "# Further Evaluation"
   ]
  },
  {
   "cell_type": "code",
   "execution_count": null,
   "metadata": {},
   "outputs": [],
   "source": [
    "from surprise import get_dataset_dir\n",
    "import io\n",
    "def read_item_names():\n",
    "    \"\"\"Read the u.item file from MovieLens 100-k dataset and return two\n",
    "    mappings to convert raw ids into movie names and movie names into raw ids.\n",
    "    \"\"\"\n",
    "\n",
    "    file_name = get_dataset_dir() + '/ml-100k/ml-100k/u.item'\n",
    "    rid_to_name = {}\n",
    "    name_to_rid = {}\n",
    "    with io.open(file_name, 'r', encoding='ISO-8859-1') as f:\n",
    "        for line in f:\n",
    "            line = line.split('|')\n",
    "            rid_to_name[line[0]] = line[1]\n",
    "            name_to_rid[line[1]] = line[0]\n",
    "\n",
    "    return rid_to_name, name_to_rid\n",
    "\n",
    "def get_top_n_for_user(predictions, userId, n=10):\n",
    "    '''Return the top-N recommendation for each user from a set of predictions.\n",
    "\n",
    "    Args:\n",
    "        predictions(list of Prediction objects): The list of predictions, as\n",
    "            returned by the test method of an algorithm.\n",
    "        userId(str): Target User Id \n",
    "        n(int): The number of recommendation to output for each user. Default\n",
    "            is 10.\n",
    "\n",
    "    Returns:\n",
    "    A dict where keys are user (raw) ids and values are lists of tuples:\n",
    "        [(raw item id, rating estimation), ...] of size n.\n",
    "    '''\n",
    "    # First map the predictions to each user.\n",
    "    user_predictions = [(iid, est) for (uid, iid, true_r, est, _) in predictions if uid == str(userId)]\n",
    "    # Read the mappings raw id <-> movie name\n",
    "    rid_to_name, name_to_rid = read_item_names()\n",
    "    \n",
    "    # Then sort the predictions for each user and retrieve the k highest ones.\n",
    "    user_predictions.sort(key=lambda x: x[1], reverse=True)\n",
    "    top_n = [(rid_to_name[pid], val)  for (pid, val) in user_predictions[:n]]\n",
    "\n",
    "    return top_n\n",
    "\n",
    "def get_top_neighbors(model, targetId, kind=\"Item\", n=10):\n",
    "    # Read the mappings raw id <-> movie name\n",
    "    rid_to_name, name_to_rid = read_item_names()\n",
    "    \n",
    "    # Retrieve inner id of the movie Toy Story\n",
    "    item_raw_id = name_to_rid['Toy Story (1995)']\n",
    "    item_inner_id = model[\"model\"].trainset.to_inner_iid(item_raw_id)\n",
    "    # Retrieve inner ids of the nearest neighbors of Toy Story.\n",
    "    item_neighbors = model[\"model\"].get_neighbors(item_inner_id, k=n)\n",
    "\n",
    "    # Convert inner ids of the neighbors into names.\n",
    "    item_neighbors = (model[\"model\"].trainset.to_raw_iid(inner_id)\n",
    "                           for inner_id in item_neighbors)\n",
    "    item_neighbors = (rid_to_name[rid]\n",
    "                           for rid in item_neighbors)\n",
    "\n",
    "    print('The 10 nearest neighbors of Toy Story are:')\n",
    "    for movie in item_neighbors:\n",
    "        print(movie)"
   ]
  },
  {
   "cell_type": "code",
   "execution_count": null,
   "metadata": {},
   "outputs": [],
   "source": [
    "get_top_n_for_user()"
   ]
  },
  {
   "cell_type": "code",
   "execution_count": null,
   "metadata": {},
   "outputs": [],
   "source": [
    "get_top_neighbors(marvin_model[\"KNNBaseline\"], 1, n=10)"
   ]
  },
  {
   "cell_type": "code",
   "execution_count": null,
   "metadata": {},
   "outputs": [],
   "source": []
  }
 ],
 "metadata": {
  "kernelspec": {
   "display_name": "Python 2",
   "language": "python",
   "name": "python2"
  },
  "language_info": {
   "codemirror_mode": {
    "name": "ipython",
    "version": 2
   },
   "file_extension": ".py",
   "mimetype": "text/x-python",
   "name": "python",
   "nbconvert_exporter": "python",
   "pygments_lexer": "ipython2",
   "version": "2.7.6"
  }
 },
 "nbformat": 4,
 "nbformat_minor": 1
}
